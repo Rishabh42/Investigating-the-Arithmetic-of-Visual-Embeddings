{
 "cells": [
  {
   "cell_type": "code",
   "execution_count": 1,
   "metadata": {},
   "outputs": [],
   "source": [
    "import torch\n",
    "import clip\n",
    "\n",
    "from PIL import Image\n",
    "import os\n",
    "\n",
    "device = \"cuda\" if torch.cuda.is_available() else \"cpu\"\n",
    "\n",
    "\n",
    "def get_image_embedding(image):\n",
    "    preprocessed_image = preprocess(image).unsqueeze(0).to(device)\n",
    "    with torch.no_grad():\n",
    "        image_features = model.encode_image(preprocessed_image)\n",
    "        return image_features\n",
    "\n",
    "\n",
    "def get_images_from_folder(folder_path):\n",
    "    images = []\n",
    "\n",
    "    for filename in os.listdir(folder_path):\n",
    "        # Check if the file is an image file\n",
    "        if filename.endswith(\".jpg\") or filename.endswith(\".png\") or filename.endswith(\".jpeg\"):\n",
    "            # Open the image using PIL\n",
    "            image_path = os.path.join(folder_path, filename)\n",
    "            image = Image.open(image_path)\n",
    "            # Append the image to the list\n",
    "            images.append(get_image_embedding(image))\n",
    "\n",
    "    return images\n",
    "\n",
    "\n"
   ]
  },
  {
   "cell_type": "code",
   "execution_count": 2,
   "metadata": {},
   "outputs": [],
   "source": [
    "model, preprocess = clip.load(\"ViT-B/32\", device=device)"
   ]
  },
  {
   "cell_type": "code",
   "execution_count": null,
   "metadata": {},
   "outputs": [],
   "source": [
    "import torch\n",
    "import torch.nn.functional as F"
   ]
  },
  {
   "cell_type": "code",
   "execution_count": 33,
   "metadata": {},
   "outputs": [
    {
     "name": "stdout",
     "output_type": "stream",
     "text": [
      "torch.Size([9, 512])\n",
      "torch.Size([9, 512])\n",
      "torch.Size([9, 512])\n",
      "torch.Size([9, 512])\n",
      "torch.Size([512])\n",
      "torch.Size([512])\n",
      "torch.Size([512])\n",
      "torch.Size([512])\n",
      "tensor(-0.1692)\n"
     ]
    },
    {
     "data": {
      "text/plain": [
       "tensor(99.7405)"
      ]
     },
     "execution_count": 33,
     "metadata": {},
     "output_type": "execute_result"
    }
   ],
   "source": [
    "crown_image_embeddings = get_images_from_folder(\"Dataset/GoldRatings-10a/crown_royalty__smoke_fire__/crown\")\n",
    "royalty_image_embeddings = get_images_from_folder(\"Dataset/GoldRatings-10a/crown_royalty__smoke_fire__/royalty\")\n",
    "fire_image_embeddings = get_images_from_folder(\"Dataset/GoldRatings-10a/crown_royalty__smoke_fire__/fire\")\n",
    "smoke_image_embeddings = get_images_from_folder(\"Dataset/GoldRatings-10a/crown_royalty__smoke_fire__/smoke\")\n",
    "\n",
    "\n",
    "crown_tensor = torch.squeeze(torch.stack(crown_image_embeddings, dim=0), dim=1)\n",
    "royalty_tensor = torch.squeeze(torch.stack(royalty_image_embeddings, dim=0), dim=1)\n",
    "fire_tensor = torch.squeeze(torch.stack(fire_image_embeddings, dim=0), dim=1)\n",
    "smoke_tensor = torch.squeeze(torch.stack(smoke_image_embeddings, dim=0), dim=1)\n",
    "\n",
    "print(crown_tensor.size())\n",
    "print(royalty_tensor.size())\n",
    "print(fire_tensor.size())\n",
    "print(smoke_tensor.size())\n",
    "\n",
    "# Average of embeddings\n",
    "crown_average_embedding = torch.mean(crown_tensor, dim=0)\n",
    "royalty_average_embedding = torch.mean(royalty_tensor, dim=0)\n",
    "fire_average_embedding = torch.mean(fire_tensor, dim=0)\n",
    "smoke_average_embedding = torch.mean(smoke_tensor, dim=0)\n",
    "\n",
    "print(crown_average_embedding.size())\n",
    "# print(crown_average_embedding)\n",
    "\n",
    "print(royalty_average_embedding.size())\n",
    "# print(royalty_average_embedding)\n",
    "\n",
    "print(fire_average_embedding.size())\n",
    "# print(fire_average_embedding)\n",
    "\n",
    "print(smoke_average_embedding.size())\n",
    "# print(smoke_average_embedding)\n",
    "\n",
    "diff1 = crown_average_embedding-royalty_average_embedding\n",
    "diff2 = smoke_average_embedding-fire_average_embedding\n",
    "\n",
    "cos_sim = F.cosine_similarity(diff1, diff2, dim=0)\n",
    "\n",
    "print(cos_sim)\n",
    "\n",
    "torch.rad2deg(torch.acos(cos_sim))"
   ]
  },
  {
   "cell_type": "code",
   "execution_count": 35,
   "metadata": {},
   "outputs": [
    {
     "name": "stdout",
     "output_type": "stream",
     "text": [
      "torch.Size([9, 512])\n",
      "torch.Size([9, 512])\n",
      "torch.Size([9, 512])\n",
      "torch.Size([9, 512])\n",
      "torch.Size([512])\n",
      "torch.Size([512])\n",
      "torch.Size([512])\n",
      "torch.Size([512])\n",
      "tensor(0.3308)\n"
     ]
    },
    {
     "data": {
      "text/plain": [
       "tensor(70.6837)"
      ]
     },
     "execution_count": 35,
     "metadata": {},
     "output_type": "execute_result"
    }
   ],
   "source": [
    "crown_image_embeddings = get_images_from_folder(\"Dataset/GoldRatings-10b/laugh_happiness__nod_agreement__/agreement\")\n",
    "royalty_image_embeddings = get_images_from_folder(\"Dataset/GoldRatings-10b/laugh_happiness__nod_agreement__/happiness\")\n",
    "fire_image_embeddings = get_images_from_folder(\"Dataset/GoldRatings-10b/laugh_happiness__nod_agreement__/laugh\")\n",
    "smoke_image_embeddings = get_images_from_folder(\"Dataset/GoldRatings-10b/laugh_happiness__nod_agreement__/nod\")\n",
    "\n",
    "\n",
    "crown_tensor = torch.squeeze(torch.stack(crown_image_embeddings, dim=0), dim=1)\n",
    "royalty_tensor = torch.squeeze(torch.stack(royalty_image_embeddings, dim=0), dim=1)\n",
    "fire_tensor = torch.squeeze(torch.stack(fire_image_embeddings, dim=0), dim=1)\n",
    "smoke_tensor = torch.squeeze(torch.stack(smoke_image_embeddings, dim=0), dim=1)\n",
    "\n",
    "print(crown_tensor.size())\n",
    "print(royalty_tensor.size())\n",
    "print(fire_tensor.size())\n",
    "print(smoke_tensor.size())\n",
    "\n",
    "# Average of embeddings\n",
    "crown_average_embedding = torch.mean(crown_tensor, dim=0)\n",
    "royalty_average_embedding = torch.mean(royalty_tensor, dim=0)\n",
    "fire_average_embedding = torch.mean(fire_tensor, dim=0)\n",
    "smoke_average_embedding = torch.mean(smoke_tensor, dim=0)\n",
    "\n",
    "print(crown_average_embedding.size())\n",
    "# print(crown_average_embedding)\n",
    "\n",
    "print(royalty_average_embedding.size())\n",
    "# print(royalty_average_embedding)\n",
    "\n",
    "print(fire_average_embedding.size())\n",
    "# print(fire_average_embedding)\n",
    "\n",
    "print(smoke_average_embedding.size())\n",
    "# print(smoke_average_embedding)\n",
    "\n",
    "diff1 = crown_average_embedding-royalty_average_embedding\n",
    "diff2 = smoke_average_embedding-fire_average_embedding\n",
    "\n",
    "cos_sim = F.cosine_similarity(diff1, diff2, dim=0)\n",
    "\n",
    "print(cos_sim)\n",
    "\n",
    "angle_in_degrees = torch.rad2deg(torch.acos(cos_sim))\n",
    "print(\"Angle : Averaging \", angle_in_degrees)"
   ]
  },
  {
   "cell_type": "code",
   "execution_count": null,
   "metadata": {},
   "outputs": [],
   "source": []
  },
  {
   "cell_type": "code",
   "execution_count": 36,
   "metadata": {},
   "outputs": [
    {
     "data": {
      "image/png": "[encoded data removed]",
      "text/plain": [
       "<Figure size 1000x500 with 2 Axes>"
      ]
     },
     "metadata": {},
     "output_type": "display_data"
    }
   ],
   "source": [
    "import torch\n",
    "import matplotlib.pyplot as plt\n",
    "\n",
    "# Assuming you have two tensors tensor1 and tensor2\n",
    "# Convert tensors to NumPy arrays\n",
    "tensor1_np = diff1.cpu().numpy()\n",
    "tensor2_np = diff2.cpu().numpy()\n",
    "\n",
    "# Plot the tensors\n",
    "plt.figure(figsize=(10, 5))\n",
    "\n",
    "plt.subplot(1, 2, 1)\n",
    "plt.imshow(tensor1_np.reshape(512,1))\n",
    "plt.title('Tensor 1')\n",
    "\n",
    "plt.subplot(1, 2, 2)\n",
    "plt.imshow(tensor2_np.reshape(512,1))\n",
    "plt.title('Tensor 2')\n",
    "\n",
    "plt.show()\n"
   ]
  }
 ],
 "metadata": {
  "kernelspec": {
   "display_name": ".venv",
   "language": "python",
   "name": "python3"
  },
  "language_info": {
   "codemirror_mode": {
    "name": "ipython",
    "version": 3
   },
   "file_extension": ".py",
   "mimetype": "text/x-python",
   "name": "python",
   "nbconvert_exporter": "python",
   "pygments_lexer": "ipython3",
   "version": "3.8.10"
  }
 },
 "nbformat": 4,
 "nbformat_minor": 2
}
